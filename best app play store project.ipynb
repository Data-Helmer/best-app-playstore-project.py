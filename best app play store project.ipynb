{
 "cells": [
  {
   "cell_type": "markdown",
   "id": "14562e92",
   "metadata": {},
   "source": [
    "## FINDING THE BEST APP TYPE: ##\n",
    "our project consists in analyzing andriod and ios stores data with the purpose of finding out whats the best category to make a profitable free in_app ad app. which category would attract more users?"
   ]
  },
  {
   "cell_type": "code",
   "execution_count": 6,
   "id": "c6131338",
   "metadata": {},
   "outputs": [],
   "source": [
    "#first lets open the files #\n",
    "\n",
    "opened_ios = open('./Downloads/AppleStore.csv', encoding = 'utf8')\n",
    "opened_android = open('./Downloads/googleplaystore.csv', encoding = 'utf8')\n",
    "\n",
    "#then we need to import the csv reader to read it and store in the lists\n",
    "\n",
    "from csv import reader\n",
    "readed_ios = reader(opened_ios)\n",
    "readed_android = reader(opened_android)\n",
    "\n",
    "#once they are readed, we can store it inside lists\n",
    "\n",
    "ios_data = list(readed_ios)\n",
    "android_data = list(readed_android)\n"
   ]
  },
  {
   "cell_type": "markdown",
   "id": "9c51532c",
   "metadata": {},
   "source": [
    "lets create a function that helps us explore the data"
   ]
  },
  {
   "cell_type": "code",
   "execution_count": 56,
   "id": "50b663eb",
   "metadata": {},
   "outputs": [],
   "source": [
    "#this function will help in printing rows repeatedly in a readable way\n",
    "def explore_data(dataset, start, end, rows_and_columns= False):\n",
    "    dataset_slice = dataset[start:end]\n",
    "    for row in dataset_slice:\n",
    "        print(row)\n",
    "        print('\\n')  # adds a new empty line after each row to help readability #\n",
    "        \n",
    "    if rows_and_columns == True:\n",
    "        print('Number of rows', len(dataset))\n",
    "        print('Number of columns', len(dataset[0]))\n",
    "        \n"
   ]
  },
  {
   "cell_type": "markdown",
   "id": "95beb798",
   "metadata": {},
   "source": [
    "lets make some short analysis of the dimensions and columns of both datasets. the meaning of the columns of google play store are not described by the dataset owner, but from the apple store dataset."
   ]
  },
  {
   "cell_type": "code",
   "execution_count": 58,
   "id": "5b99c9fb",
   "metadata": {},
   "outputs": [
    {
     "name": "stdout",
     "output_type": "stream",
     "text": [
      "Google Play Store apps data columns and dimensions \n",
      "\n",
      "['App', 'Category', 'Rating', 'Reviews', 'Size', 'Installs', 'Type', 'Price', 'Content Rating', 'Genres', 'Last Updated', 'Current Ver', 'Android Ver']\n",
      "\n",
      "\n",
      "Number of rows 10841\n",
      "Number of columns 13\n",
      "\n",
      " ------------------------------------------------------------ \n",
      "\n",
      "Apple Store apps columns and dimensions \n",
      "\n",
      "['id', 'track_name', 'size_bytes', 'currency', 'price', 'rating_count_tot', 'rating_count_ver', 'user_rating', 'user_rating_ver', 'ver', 'cont_rating', 'prime_genre', 'sup_devices.num', 'ipadSc_urls.num', 'lang.num', 'vpp_lic']\n",
      "\n",
      "\n",
      "Number of rows 7198\n",
      "Number of columns 16\n"
     ]
    }
   ],
   "source": [
    "print('Google Play Store apps data columns and dimensions \\n')\n",
    "explore_data(android_data, 0, 1, True)\n",
    "print('\\n', '-'*60, '\\n')\n",
    "\n",
    "print('Apple Store apps columns and dimensions \\n')\n",
    "explore_data(ios_data, 0, 1, True)"
   ]
  },
  {
   "cell_type": "markdown",
   "id": "c628b14b",
   "metadata": {},
   "source": [
    "looking at the columns of our dataset we can identify some important information that we will use to answer our main question like:\n",
    "Google Play Store = 'App', 'category', 'Rating', 'Installs', 'Type', 'Price', 'Genres'\n",
    "App Store = 'id', 'price', 'rating_count_tot', 'user_rating', 'cont_rating', 'prime_genre'\n",
    "\n",
    "now we will store the columns names in a different list so that we can use it for future reference"
   ]
  },
  {
   "cell_type": "code",
   "execution_count": 60,
   "id": "33a21926",
   "metadata": {},
   "outputs": [
    {
     "name": "stdout",
     "output_type": "stream",
     "text": [
      "Ándroid columns\n",
      " ['App', 'Category', 'Rating', 'Reviews', 'Size', 'Installs', 'Type', 'Price', 'Content Rating', 'Genres', 'Last Updated', 'Current Ver', 'Android Ver']\n",
      "\n",
      "iOS columns\n",
      " ['id', 'track_name', 'size_bytes', 'currency', 'price', 'rating_count_tot', 'rating_count_ver', 'user_rating', 'user_rating_ver', 'ver', 'cont_rating', 'prime_genre', 'sup_devices.num', 'ipadSc_urls.num', 'lang.num', 'vpp_lic']\n"
     ]
    }
   ],
   "source": [
    "# android column names\n",
    "columns_android = android_data[0]\n",
    "\n",
    "# ios column names\n",
    "\n",
    "columns_ios = ios_data[0]\n",
    "\n",
    "\n",
    "print('Ándroid columns\\n', columns_android)\n",
    "print('\\niOS columns\\n', columns_ios)"
   ]
  },
  {
   "cell_type": "markdown",
   "id": "ec8ddeb8",
   "metadata": {},
   "source": [
    "## 2. CLEANING DATA ##\n",
    "\n",
    "before any data analysis is carried out, it is extremely important that data assessment is carried out. data assessment include data cleaning, removing duplicates, checking for accuracy of data and so on.\n",
    "\n",
    "## 2.1 Checking for wrong data ##\n",
    "\n",
    "checking the discussion forum of our dataset we can see theres an erorr in row 10472(actually 10473). we print it to be sure, then we'll delete it."
   ]
  },
  {
   "cell_type": "code",
   "execution_count": 10,
   "id": "df11d59a",
   "metadata": {},
   "outputs": [
    {
     "data": {
      "text/plain": [
       "['Life Made WI-Fi Touchscreen Photo Frame',\n",
       " '1.9',\n",
       " '19',\n",
       " '3.0M',\n",
       " '1,000+',\n",
       " 'Free',\n",
       " '0',\n",
       " 'Everyone',\n",
       " '',\n",
       " 'February 11, 2018',\n",
       " '1.0.19',\n",
       " '4.0 and up']"
      ]
     },
     "execution_count": 10,
     "metadata": {},
     "output_type": "execute_result"
    }
   ],
   "source": [
    "android_data[10473] # this particular row does not have category in it, so have to delete it because it is not in line with other dataset"
   ]
  },
  {
   "cell_type": "code",
   "execution_count": 11,
   "id": "dedf56c1",
   "metadata": {},
   "outputs": [
    {
     "name": "stdout",
     "output_type": "stream",
     "text": [
      "['App', 'Category', 'Rating', 'Reviews', 'Size', 'Installs', 'Type', 'Price', 'Content Rating', 'Genres', 'Last Updated', 'Current Ver', 'Android Ver']\n",
      "\n",
      "\n",
      "Number of rows 10841\n",
      "Number of columns 13\n"
     ]
    }
   ],
   "source": [
    "del android_data[10473] #deleting row 10473 from the dataset\n",
    "\n",
    "#to check if its gone\n",
    "explore_data(android_data, 0, 1, True)\n",
    "\n"
   ]
  },
  {
   "cell_type": "markdown",
   "id": "3597e298",
   "metadata": {},
   "source": [
    "checking for other wrong data"
   ]
  },
  {
   "cell_type": "code",
   "execution_count": 12,
   "id": "52e8ed2e",
   "metadata": {},
   "outputs": [
    {
     "name": "stdout",
     "output_type": "stream",
     "text": [
      "['Instagram', 'SOCIAL', '4.5', '66577313', 'Varies with device', '1,000,000,000+', 'Free', '0', 'Teen', 'Social', 'July 31, 2018', 'Varies with device', 'Varies with device']\n",
      "['Instagram', 'SOCIAL', '4.5', '66577446', 'Varies with device', '1,000,000,000+', 'Free', '0', 'Teen', 'Social', 'July 31, 2018', 'Varies with device', 'Varies with device']\n",
      "['Instagram', 'SOCIAL', '4.5', '66577313', 'Varies with device', '1,000,000,000+', 'Free', '0', 'Teen', 'Social', 'July 31, 2018', 'Varies with device', 'Varies with device']\n",
      "['Instagram', 'SOCIAL', '4.5', '66509917', 'Varies with device', '1,000,000,000+', 'Free', '0', 'Teen', 'Social', 'July 31, 2018', 'Varies with device', 'Varies with device']\n"
     ]
    }
   ],
   "source": [
    "#looking at instagram entries\n",
    "\n",
    "for app in android_data:\n",
    "    name = app[0]\n",
    "    if name == 'Instagram':\n",
    "        print(app)"
   ]
  },
  {
   "cell_type": "markdown",
   "id": "ff676baa",
   "metadata": {},
   "source": [
    "fully aware that there is duplicate, we will create a function that gives us the number of duplicates and store the name of duplicates, so that we can remove the duplicates"
   ]
  },
  {
   "cell_type": "code",
   "execution_count": 13,
   "id": "36d78378",
   "metadata": {},
   "outputs": [
    {
     "name": "stdout",
     "output_type": "stream",
     "text": [
      "1181\n",
      "9660\n"
     ]
    }
   ],
   "source": [
    "#first we will store the duplicates values into list\n",
    "duplicated = []\n",
    "unique = []\n",
    "\n",
    "for app in android_data:\n",
    "    name = app[0]\n",
    "    if name in unique:\n",
    "        duplicated.append(name)\n",
    "    else:\n",
    "        unique.append(name)\n",
    "        \n",
    "#then we can see how many entries each list have\n",
    "print(len(duplicated))\n",
    "print(len(unique))"
   ]
  },
  {
   "cell_type": "markdown",
   "id": "57ba85a2",
   "metadata": {},
   "source": [
    "with that in mind, we wont remove the duplicates randomly. looking at the 'instagram' entries we printed, we can see the 4th column has the number of reviews, thinking about it logically we can see that the biggest number reflects the newer entry. this is the entry we are going to keep."
   ]
  },
  {
   "cell_type": "code",
   "execution_count": 14,
   "id": "e13621b9",
   "metadata": {},
   "outputs": [
    {
     "name": "stdout",
     "output_type": "stream",
     "text": [
      "size of reviews_max dictionary 9659\n"
     ]
    }
   ],
   "source": [
    "#creating a dictionary to store name and maximum\n",
    "reviews_max = {}\n",
    "\n",
    "#looping through the data to populate the dictionary\n",
    "for app in android_data[1:]:  #excluding the header column\n",
    "    name = app[0]\n",
    "    n_reviews = float(app[3])\n",
    "    if name in reviews_max and reviews_max[name] < n_reviews:\n",
    "        reviews_max[name] = n_reviews\n",
    "    elif name not in reviews_max:\n",
    "        reviews_max[name] = n_reviews\n",
    "        \n",
    "#seeing if everything went fine\n",
    "print('size of reviews_max dictionary', len(reviews_max))\n",
    "    "
   ]
  },
  {
   "cell_type": "markdown",
   "id": "9ed26d1a",
   "metadata": {},
   "source": [
    "now that we have created this dictionary with entries(name of the app and amount of reviews), we can go back to our main data set and start to remove the ones that are not there.\n",
    "\n",
    "the loop consists in checking two things:\n",
    "1) if the number of reviews from our main dataset is equal to the one stored in our dictionary with the max review number, showing that this entry is the newest.\n",
    "2)if the entry has already been added(it checks if it already exists in the already_added list).\n",
    "\n",
    "once the entry has the same number of review and hasn't been added, it will be stored in our new list created to recieve the cleaned data android_clean.\n",
    "\n",
    "finally we print the length of the list to see if everything went fine (it has to be the same length as th reviews_max that we did above"
   ]
  },
  {
   "cell_type": "code",
   "execution_count": 15,
   "id": "7e2ea3f0",
   "metadata": {},
   "outputs": [
    {
     "name": "stdout",
     "output_type": "stream",
     "text": [
      "size of android_clean list 9659\n"
     ]
    }
   ],
   "source": [
    "# Creating a list to store our cleaned data\n",
    "android_clean = []\n",
    "\n",
    "# Creating a help list to store the app names\n",
    "already_added = []\n",
    "\n",
    "# looping through the data to clean it\n",
    "for app in android_data[1:]:\n",
    "    name = app[0]\n",
    "    n_reviews = float(app[3])\n",
    "    if n_reviews == reviews_max[name] and name not in already_added:\n",
    "        android_clean.append(app)\n",
    "        already_added.append(name) \n",
    "print('size of android_clean list', len(android_clean))"
   ]
  },
  {
   "cell_type": "markdown",
   "id": "f1575c94",
   "metadata": {},
   "source": [
    "## LOOKING FOR DUPLICATES IN APPLE STORE ##\n",
    "\n",
    "using a similiar approach we are going to insert the unique ids in the list unique and the repeated ones in the duplicated. then we'll see the length of them"
   ]
  },
  {
   "cell_type": "code",
   "execution_count": 16,
   "id": "f3f544ab",
   "metadata": {},
   "outputs": [
    {
     "name": "stdout",
     "output_type": "stream",
     "text": [
      "unique values: 7198 \n",
      "duplicated values: 0\n"
     ]
    }
   ],
   "source": [
    "# creating the list\n",
    "\n",
    "unique = []\n",
    "duplicated = []\n",
    "\n",
    "# adding values to the empty list above:\n",
    "for app in ios_data:\n",
    "    app_id = app[0]\n",
    "    if app_id in unique:\n",
    "        duplicated.append(app_id)\n",
    "    else:\n",
    "        unique.append(app_id)\n",
    "        \n",
    "#checking to see how it looks like\n",
    "print('unique values: {} \\nduplicated values: {}'.format(len(unique), len(duplicated)))"
   ]
  },
  {
   "cell_type": "markdown",
   "id": "67ecd132",
   "metadata": {},
   "source": [
    "As we can see there are no duplicated values in the dataset. but other issues comes, when we think that our company wants to develop an app to the english speaking audience, we need to remove the apps that are not in english. and in both datasets we see this type of entry.\n",
    "\n",
    "## REMOVING THE NON ENGLISH APPS ##\n",
    "\n"
   ]
  },
  {
   "cell_type": "code",
   "execution_count": 17,
   "id": "6a81ddda",
   "metadata": {},
   "outputs": [
    {
     "name": "stdout",
     "output_type": "stream",
     "text": [
      "Apple store non-english apps: \n",
      " \n",
      "爱奇艺PPS -《欢乐颂2》电视剧热播 \n",
      "【脱出ゲーム】絶対に最後までプレイしないで 〜謎解き＆ブロックパズル〜\n",
      "\n",
      "\n",
      "Google Play Store non-english apps: \n",
      " \n",
      "中国語 AQリスニング \n",
      "لعبة تقدر تربح DZ\n"
     ]
    }
   ],
   "source": [
    "# printing non english apps in the ios dataase\n",
    "print('Apple store non-english apps: \\n \\n{} \\n{}\\n'.format(ios_data[814][1], ios_data[6732][1]))\n",
    "\n",
    "#printing non-english app in the android database\n",
    "print('\\nGoogle Play Store non-english apps: \\n \\n{} \\n{}'.format(android_clean[4412][0],android_clean[7940][0]))"
   ]
  },
  {
   "cell_type": "markdown",
   "id": "b5dc41cb",
   "metadata": {},
   "source": [
    "in order to remove non english apps that have characters that are not contained in English language. we can know that by the index of every letter(this is found with the ord() built_in function), the characters from the english alphabet are in the range of 0 to 127 (according to the ASCII)\n",
    "\n",
    "with that in mind, we are going to create a function that sees if the app name has non-english characters GoTM\n"
   ]
  },
  {
   "cell_type": "code",
   "execution_count": 25,
   "id": "320599bc",
   "metadata": {},
   "outputs": [
    {
     "name": "stdout",
     "output_type": "stream",
     "text": [
      "Instagram is engish-language app. \t\t\t\t True\n",
      "爱奇艺PPS -《欢乐颂2》电视剧热播 is an english app.\t\t False\n",
      "Docs To Go™ free office Suite is an english app.\t\t False\n",
      "Instachat 😜 is an english-language app.\t\t\t False\n"
     ]
    }
   ],
   "source": [
    "# loops over the chars and see if they have any non-english characters\n",
    "def english_char(a_string):\n",
    "    for char in a_string:\n",
    "        if ord(char) > 127:\n",
    "            return False\n",
    "    return True\n",
    "\n",
    "# lets check some values\n",
    "print('Instagram is engish-language app. \\t\\t\\t\\t', english_char('Instagram'))\n",
    "print('爱奇艺PPS -《欢乐颂2》电视剧热播 is an english app.\\t\\t', english_char('爱奇艺PPS -《欢乐颂2》电视剧热播'))\n",
    "print('Docs To Go™ free office Suite is an english app.\\t\\t', english_char('Docs To Go™ free office Suite'))\n",
    "print('Instachat 😜 is an english-language app.\\t\\t\\t', english_char('Instachat 😜'))"
   ]
  },
  {
   "cell_type": "markdown",
   "id": "5eafc9ee",
   "metadata": {},
   "source": [
    "the reason that our function returns 'Instachat 😜' and 'Docs To Go™ free office Suite' as non english language apps is because of characters like TM fall outside the ASCII range and have numbers over 127.\n",
    "\n",
    "we cannot exclude this values from our dataset, since it is really useful. To fix it in some way, we will allow our strings to have maximum 3 special characters. abaelow we will rewrite our function to do that."
   ]
  },
  {
   "cell_type": "code",
   "execution_count": 26,
   "id": "70273a65",
   "metadata": {},
   "outputs": [
    {
     "name": "stdout",
     "output_type": "stream",
     "text": [
      "Instagram is engish-language app. \t\t\t\t True\n",
      "爱奇艺PPS -《欢乐颂2》电视剧热播 is an english app.\t\t False\n",
      "Docs To Go™ free office Suite is an english app.\t\t True\n",
      "Instachat 😜 is an english-language app.\t\t\t True\n"
     ]
    }
   ],
   "source": [
    "# loops over the chars and see if they have more than 3 non-english characters\n",
    "def english_char(a_string):\n",
    "    special_char = 0\n",
    "    for char in a_string:\n",
    "        if ord(char) > 127:\n",
    "            special_char += 1\n",
    "    if special_char >= 3:\n",
    "        return False\n",
    "    else:\n",
    "        return True\n",
    "    \n",
    "#let's check some values\n",
    "print('Instagram is engish-language app. \\t\\t\\t\\t', english_char('Instagram'))\n",
    "print('爱奇艺PPS -《欢乐颂2》电视剧热播 is an english app.\\t\\t', english_char('爱奇艺PPS -《欢乐颂2》电视剧热播'))\n",
    "print('Docs To Go™ free office Suite is an english app.\\t\\t', english_char('Docs To Go™ free office Suite'))\n",
    "print('Instachat 😜 is an english-language app.\\t\\t\\t', english_char('Instachat 😜'))"
   ]
  },
  {
   "cell_type": "markdown",
   "id": "8a75ab9e",
   "metadata": {},
   "source": [
    "Now we'll use our new function to filter the apps that are in english language and make our dataset cleaner."
   ]
  },
  {
   "cell_type": "code",
   "execution_count": 28,
   "id": "e84df96e",
   "metadata": {},
   "outputs": [
    {
     "name": "stdout",
     "output_type": "stream",
     "text": [
      "the new clean dataset has 9596 entries and the older had 9659, 63 entries were removed\n"
     ]
    }
   ],
   "source": [
    "#cleaning the android data\n",
    "play_store_data = []\n",
    "for app in android_clean[1:]:\n",
    "    name = app[0]\n",
    "    if name not in android_data:\n",
    "        if english_char(name) == True:\n",
    "            play_store_data.append(app)\n",
    "            \n",
    "a = len(android_clean)\n",
    "b = len(play_store_data)\n",
    "\n",
    "print('the new clean dataset has {} entries and the older had {}, {} entries were removed'.format(b, a, a-b))"
   ]
  },
  {
   "cell_type": "code",
   "execution_count": 30,
   "id": "e16a11a6",
   "metadata": {},
   "outputs": [
    {
     "name": "stdout",
     "output_type": "stream",
     "text": [
      "the new clean dataset has 7197 entries and the older had 7198, 1 entries were removed\n"
     ]
    }
   ],
   "source": [
    "# cleaning the ios_data\n",
    "app_store_data = []\n",
    "\n",
    "for app in ios_data[1:]:\n",
    "    app_id = app[0]\n",
    "    if app_id not in app_store_data:\n",
    "        if english_char(app_id) == True:\n",
    "            app_store_data.append(app)\n",
    "            \n",
    "a = len(ios_data)\n",
    "b = len(app_store_data)\n",
    "print('the new clean dataset has {} entries and the older had {}, {} entries were removed'.format(b, a, a-b))"
   ]
  },
  {
   "cell_type": "markdown",
   "id": "b902adf4",
   "metadata": {},
   "source": [
    "Now that we made it we have just another thing to do. Since our company wants to create a free app with ads in it, we need to separate the free apps from the non-free apps. This is the last step of our data cleaning process"
   ]
  },
  {
   "cell_type": "markdown",
   "id": "50acf70f",
   "metadata": {},
   "source": [
    "## 2.5 Separating the free from the non-free apps ##\n",
    "\n",
    "First we will check in which column the prices are in both datasets"
   ]
  },
  {
   "cell_type": "code",
   "execution_count": 32,
   "id": "5122b537",
   "metadata": {},
   "outputs": [
    {
     "name": "stdout",
     "output_type": "stream",
     "text": [
      "['App', 'Category', 'Rating', 'Reviews', 'Size', 'Installs', 'Type', 'Price', 'Content Rating', 'Genres', 'Last Updated', 'Current Ver', 'Android Ver']\n",
      "\n",
      "\n",
      "['id', 'track_name', 'size_bytes', 'currency', 'price', 'rating_count_tot', 'rating_count_ver', 'user_rating', 'user_rating_ver', 'ver', 'cont_rating', 'prime_genre', 'sup_devices.num', 'ipadSc_urls.num', 'lang.num', 'vpp_lic']\n"
     ]
    }
   ],
   "source": [
    "print(columns_android)\n",
    "print('\\n')\n",
    "print(columns_ios)"
   ]
  },
  {
   "cell_type": "markdown",
   "id": "c4c22554",
   "metadata": {},
   "source": [
    "From the output above, we can see we need the 8th column of android data and the 5th of the ios data. Knowing this, we will start the operation"
   ]
  },
  {
   "cell_type": "code",
   "execution_count": 39,
   "id": "45141ab6",
   "metadata": {},
   "outputs": [
    {
     "name": "stdout",
     "output_type": "stream",
     "text": [
      "number of free android apps is 8847\n",
      "number of all android apps is 9596\n",
      "\n",
      "number of free ios apps is 4056\n",
      "number of all ios apps is 7197\n"
     ]
    }
   ],
   "source": [
    "#creating list to store free apps\n",
    "free_android_apps = []\n",
    "free_ios_apps = []\n",
    "\n",
    "for app in play_store_data:\n",
    "    price = float(app[7].replace('$', ''))\n",
    "    if price == 0.00:\n",
    "        free_android_apps.append(app)\n",
    "        \n",
    "for app in app_store_data:\n",
    "    price = float(app[4].replace('$', ''))\n",
    "    if price == 0.00:\n",
    "        free_ios_apps.append(app)\n",
    "        \n",
    "print('number of free android apps is', len(free_android_apps))\n",
    "print('number of all android apps is', len (play_store_data))\n",
    "print('\\nnumber of free ios apps is', len(free_ios_apps))\n",
    "print('number of all ios apps is', len(app_store_data))"
   ]
  },
  {
   "cell_type": "markdown",
   "id": "85d79395",
   "metadata": {},
   "source": [
    "## 3 Analyzing data ##\n",
    "\n",
    "Thinking about the primary objective(launch an app in App Store and Play Store), we need to evaluate both platforms. To minimize the risk the validation strategy for an app idea is comprised of three steps(as said in our DataQuesr course):\n",
    "\n",
    "     1. Build a minimal Android version of the app, and add it to GOogle play\n",
    "     2. If the app has a good response from users, we develop it further\n",
    "     3. If the app is profitable after six months, we build an IOS version of the app and add it to the App store\n",
    "     \n",
    "To do so, we are going to use the genres column (index 9) and category column(index 1) in Google play store dataset and the prime_genre column (index 11) in our App Store dataset.\n",
    "\n",
    "To analyze it this way, we are going to make two functions: one to make the frequency tables with percentages and another to put the percentages in descending order."
   ]
  },
  {
   "cell_type": "code",
   "execution_count": 42,
   "id": "8b1c0ed5",
   "metadata": {},
   "outputs": [
    {
     "name": "stdout",
     "output_type": "stream",
     "text": [
      "[('ART_AND_DESIGN', 0.633), ('AUTO_AND_VEHICLES', 0.9269), ('BEAUTY', 0.5991), ('BOOKS_AND_REFERENCE', 2.1363), ('BUSINESS', 4.6004), ('COMICS', 0.6104), ('COMMUNICATION', 3.2327), ('DATING', 1.865), ('EDUCATION', 1.1642), ('ENTERTAINMENT', 0.9608)]\n"
     ]
    }
   ],
   "source": [
    "# making a function that creates a frequency table that shows percentages\n",
    "def freq_table(dataset, index):\n",
    "    frequency_table = {}\n",
    "    total = len(dataset)\n",
    "    for row in dataset:\n",
    "        entry = row[index]\n",
    "        if entry in frequency_table:\n",
    "            frequency_table[entry] += 1\n",
    "        else:\n",
    "            frequency_table[entry] = 1\n",
    "            \n",
    "    for key in frequency_table:\n",
    "        frequency_table[key] /= total/100\n",
    "        frequency_table[key] = round(frequency_table[key], 4)\n",
    "        \n",
    "    return frequency_table\n",
    "\n",
    "#check to see whether the first entries of dictionary will print\n",
    "print(list((freq_table(free_android_apps, 1)).items())[:10])"
   ]
  },
  {
   "cell_type": "markdown",
   "id": "cd45dae9",
   "metadata": {},
   "source": [
    "Above we have created the dictionary and it worked. to slice it we have printed a slice of a list made with its items(dictionaries cannot be sliced), we didnt change the dictionary, we just printed it in a different way. lets do the same thing with the App store data."
   ]
  },
  {
   "cell_type": "code",
   "execution_count": 43,
   "id": "69db0c97",
   "metadata": {},
   "outputs": [],
   "source": [
    "# making a function that displays the percentages in a descending order\n",
    "# this function was already made by Dataquest, they claimed that this is easier with other resources\n",
    "\n",
    "def display_table(dataset, index):\n",
    "    table = freq_table(dataset, index)\n",
    "    table_display = []\n",
    "    for key in table:\n",
    "        key_val_as_tuple = (table[key], key)\n",
    "        table_display.append(key_val_as_tuple)\n",
    "        \n",
    "    table_sorted = sorted(table_display, reverse = True)\n",
    "    for entry in table_sorted:\n",
    "        print(entry[1], ':', entry[0])"
   ]
  },
  {
   "cell_type": "code",
   "execution_count": 45,
   "id": "2b43a549",
   "metadata": {},
   "outputs": [
    {
     "name": "stdout",
     "output_type": "stream",
     "text": [
      "Tools : 8.4435\n",
      "Entertainment : 6.0812\n",
      "Education : 5.3577\n",
      "Business : 4.6004\n",
      "Productivity : 3.8996\n",
      "Lifestyle : 3.877\n",
      "Finance : 3.7075\n",
      "Medical : 3.5379\n",
      "Sports : 3.4588\n",
      "Personalization : 3.3232\n",
      "Communication : 3.2327\n",
      "Action : 3.0971\n",
      "Health & Fitness : 3.0858\n",
      "Photography : 2.9502\n",
      "News & Magazines : 2.8032\n",
      "Social : 2.6676\n",
      "Travel & Local : 2.3285\n",
      "Shopping : 2.2494\n",
      "Books & Reference : 2.1363\n",
      "Simulation : 2.0459\n",
      "Dating : 1.865\n",
      "Arcade : 1.8424\n",
      "Video Players & Editors : 1.7746\n",
      "Casual : 1.7633\n",
      "Maps & Navigation : 1.3903\n",
      "Food & Drink : 1.2434\n",
      "Puzzle : 1.1303\n",
      "Racing : 0.9947\n",
      "Role Playing : 0.9382\n",
      "Libraries & Demo : 0.9382\n",
      "Auto & Vehicles : 0.9269\n",
      "Strategy : 0.9156\n",
      "House & Home : 0.8025\n",
      "Weather : 0.7912\n",
      "Events : 0.7121\n",
      "Adventure : 0.6669\n",
      "Comics : 0.5991\n",
      "Beauty : 0.5991\n",
      "Art & Design : 0.5878\n",
      "Parenting : 0.4973\n",
      "Card : 0.4521\n",
      "Trivia : 0.4182\n",
      "Casino : 0.4182\n",
      "Educational;Education : 0.3956\n",
      "Board : 0.3843\n",
      "Educational : 0.373\n",
      "Education;Education : 0.3391\n",
      "Word : 0.26\n",
      "Casual;Pretend Play : 0.2374\n",
      "Music : 0.2035\n",
      "Racing;Action & Adventure : 0.1695\n",
      "Puzzle;Brain Games : 0.1695\n",
      "Entertainment;Music & Video : 0.1695\n",
      "Casual;Brain Games : 0.1356\n",
      "Casual;Action & Adventure : 0.1356\n",
      "Arcade;Action & Adventure : 0.1243\n",
      "Action;Action & Adventure : 0.1017\n",
      "Educational;Pretend Play : 0.0904\n",
      "Simulation;Action & Adventure : 0.0791\n",
      "Parenting;Education : 0.0791\n",
      "Entertainment;Brain Games : 0.0791\n",
      "Board;Brain Games : 0.0791\n",
      "Parenting;Music & Video : 0.0678\n",
      "Educational;Brain Games : 0.0678\n",
      "Casual;Creativity : 0.0678\n",
      "Art & Design;Creativity : 0.0678\n",
      "Education;Pretend Play : 0.0565\n",
      "Role Playing;Pretend Play : 0.0452\n",
      "Education;Creativity : 0.0452\n",
      "Role Playing;Action & Adventure : 0.0339\n",
      "Puzzle;Action & Adventure : 0.0339\n",
      "Entertainment;Creativity : 0.0339\n",
      "Entertainment;Action & Adventure : 0.0339\n",
      "Educational;Creativity : 0.0339\n",
      "Educational;Action & Adventure : 0.0339\n",
      "Education;Music & Video : 0.0339\n",
      "Education;Brain Games : 0.0339\n",
      "Education;Action & Adventure : 0.0339\n",
      "Adventure;Action & Adventure : 0.0339\n",
      "Video Players & Editors;Music & Video : 0.0226\n",
      "Sports;Action & Adventure : 0.0226\n",
      "Simulation;Pretend Play : 0.0226\n",
      "Puzzle;Creativity : 0.0226\n",
      "Music;Music & Video : 0.0226\n",
      "Entertainment;Pretend Play : 0.0226\n",
      "Casual;Education : 0.0226\n",
      "Board;Action & Adventure : 0.0226\n",
      "Video Players & Editors;Creativity : 0.0113\n",
      "Trivia;Education : 0.0113\n",
      "Travel & Local;Action & Adventure : 0.0113\n",
      "Tools;Education : 0.0113\n",
      "Strategy;Education : 0.0113\n",
      "Strategy;Creativity : 0.0113\n",
      "Strategy;Action & Adventure : 0.0113\n",
      "Simulation;Education : 0.0113\n",
      "Role Playing;Brain Games : 0.0113\n",
      "Racing;Pretend Play : 0.0113\n",
      "Puzzle;Education : 0.0113\n",
      "Parenting;Brain Games : 0.0113\n",
      "Music & Audio;Music & Video : 0.0113\n",
      "Lifestyle;Pretend Play : 0.0113\n",
      "Lifestyle;Education : 0.0113\n",
      "Health & Fitness;Education : 0.0113\n",
      "Health & Fitness;Action & Adventure : 0.0113\n",
      "Entertainment;Education : 0.0113\n",
      "Communication;Creativity : 0.0113\n",
      "Comics;Creativity : 0.0113\n",
      "Casual;Music & Video : 0.0113\n",
      "Card;Action & Adventure : 0.0113\n",
      "Books & Reference;Education : 0.0113\n",
      "Art & Design;Pretend Play : 0.0113\n",
      "Art & Design;Action & Adventure : 0.0113\n",
      "Arcade;Pretend Play : 0.0113\n",
      "Adventure;Education : 0.0113\n"
     ]
    }
   ],
   "source": [
    "# display table for free_android_apps genre\n",
    "\n",
    "display_table(free_android_apps, 9)"
   ]
  },
  {
   "cell_type": "code",
   "execution_count": 47,
   "id": "2ca1c155",
   "metadata": {},
   "outputs": [
    {
     "name": "stdout",
     "output_type": "stream",
     "text": [
      "FAMILY : 18.9443\n",
      "GAME : 9.6982\n",
      "TOOLS : 8.4548\n",
      "BUSINESS : 4.6004\n",
      "PRODUCTIVITY : 3.8996\n",
      "LIFESTYLE : 3.8883\n",
      "FINANCE : 3.7075\n",
      "MEDICAL : 3.5379\n",
      "SPORTS : 3.391\n",
      "PERSONALIZATION : 3.3232\n",
      "COMMUNICATION : 3.2327\n",
      "HEALTH_AND_FITNESS : 3.0858\n",
      "PHOTOGRAPHY : 2.9502\n",
      "NEWS_AND_MAGAZINES : 2.8032\n",
      "SOCIAL : 2.6676\n",
      "TRAVEL_AND_LOCAL : 2.3398\n",
      "SHOPPING : 2.2494\n",
      "BOOKS_AND_REFERENCE : 2.1363\n",
      "DATING : 1.865\n",
      "VIDEO_PLAYERS : 1.7972\n",
      "MAPS_AND_NAVIGATION : 1.3903\n",
      "FOOD_AND_DRINK : 1.2434\n",
      "EDUCATION : 1.1642\n",
      "ENTERTAINMENT : 0.9608\n",
      "LIBRARIES_AND_DEMO : 0.9382\n",
      "AUTO_AND_VEHICLES : 0.9269\n",
      "HOUSE_AND_HOME : 0.8025\n",
      "WEATHER : 0.7912\n",
      "EVENTS : 0.7121\n",
      "PARENTING : 0.6556\n",
      "ART_AND_DESIGN : 0.633\n",
      "COMICS : 0.6104\n",
      "BEAUTY : 0.5991\n"
     ]
    }
   ],
   "source": [
    "# display free_android_apps categories\n",
    "\n",
    "display_table(free_android_apps, 1)"
   ]
  },
  {
   "cell_type": "code",
   "execution_count": 49,
   "id": "09a217ea",
   "metadata": {},
   "outputs": [
    {
     "name": "stdout",
     "output_type": "stream",
     "text": [
      "Games : 55.646\n",
      "Entertainment : 8.2347\n",
      "Photo & Video : 4.1174\n",
      "Social Networking : 3.5256\n",
      "Education : 3.2544\n",
      "Shopping : 2.9832\n",
      "Utilities : 2.6874\n",
      "Lifestyle : 2.3176\n",
      "Finance : 2.071\n",
      "Sports : 1.9477\n",
      "Health & Fitness : 1.8738\n",
      "Music : 1.6519\n",
      "Book : 1.6272\n",
      "Productivity : 1.5286\n",
      "News : 1.43\n",
      "Travel : 1.3807\n",
      "Food & Drink : 1.0602\n",
      "Weather : 0.7643\n",
      "Reference : 0.4931\n",
      "Navigation : 0.4931\n",
      "Business : 0.4931\n",
      "Catalogs : 0.2219\n",
      "Medical : 0.1972\n"
     ]
    }
   ],
   "source": [
    "# display table for free_ios_apps prime_genres\n",
    "\n",
    "display_table(free_ios_apps, 11)"
   ]
  },
  {
   "cell_type": "markdown",
   "id": "310a68bd",
   "metadata": {},
   "source": [
    "relevant questions to answer about our data:\n",
    "\n",
    "1) What is the most common genre? What is the runner-up?\n",
    "2) What patterns can we see?\n",
    "3) What is the general impression- are most apps designed for practical purposes or more for entertainment?\n",
    "4) Could we recommend and app profile based on the information we have so far? Does a bi amount of apps in that genre imply a large number of users?"
   ]
  },
  {
   "cell_type": "markdown",
   "id": "6cd2adf8",
   "metadata": {},
   "source": [
    "With that in mind we can see that App Store has a big amount of entertainment apps, on the other hand Play Store is more balanced, having productivity, education and business in the top 5. But this data isnt enough to set a strategy. we need to know how many people have downloaded this apps.\n",
    "The Play Store dataset has a column called intalls(index5) that gives us already this information. App Store dataset does not have this information, the solution is to look at the total number of user rating in the rating_count_tot(index 5), since we don't have a better option. Next we are going to calculate the average number of user ratings per app genre in App Store"
   ]
  },
  {
   "cell_type": "code",
   "execution_count": 50,
   "id": "d80b9388",
   "metadata": {},
   "outputs": [
    {
     "name": "stdout",
     "output_type": "stream",
     "text": [
      "Social Networking ['Social Networking', 53078.1958]\n",
      "Photo & Video ['Photo & Video', 27249.8922]\n",
      "Games ['Games', 18924.689]\n",
      "Music ['Music', 56482.0299]\n",
      "Reference ['Reference', 67447.9]\n",
      "Health & Fitness ['Health & Fitness', 19952.3158]\n",
      "Weather ['Weather', 47220.9355]\n",
      "Utilities ['Utilities', 14010.1009]\n",
      "Travel ['Travel', 20216.0179]\n",
      "Shopping ['Shopping', 18746.6777]\n",
      "News ['News', 15892.7241]\n",
      "Navigation ['Navigation', 25972.05]\n",
      "Lifestyle ['Lifestyle', 8978.3085]\n",
      "Entertainment ['Entertainment', 10822.9611]\n",
      "Food & Drink ['Food & Drink', 20179.093]\n",
      "Sports ['Sports', 20128.9747]\n",
      "Book ['Book', 8498.3333]\n",
      "Finance ['Finance', 13522.2619]\n",
      "Education ['Education', 6266.3333]\n",
      "Productivity ['Productivity', 19053.8871]\n",
      "Business ['Business', 6367.8]\n",
      "Catalogs ['Catalogs', 1779.5556]\n",
      "Medical ['Medical', 459.75]\n"
     ]
    }
   ],
   "source": [
    "# making a frequency table for prime_genre\n",
    "prime_genre_freq = freq_table(free_ios_apps, 11)\n",
    "\n",
    "for genre in prime_genre_freq:\n",
    "    total = 0\n",
    "    len_genre = 0\n",
    "    for app in free_ios_apps:\n",
    "        genre_app = app[11]\n",
    "        if genre_app == genre:\n",
    "            n_ratings = float(app[5])\n",
    "            total += n_ratings\n",
    "            len_genre += 1\n",
    "    avg_ratings = round(total/len_genre, 4)\n",
    "    genre_ratings = [genre, avg_ratings]\n",
    "    print(genre, genre_ratings)"
   ]
  },
  {
   "cell_type": "markdown",
   "id": "28970c08",
   "metadata": {},
   "source": [
    "   ## looking at the data we have analyzed so far, we can see that in App Store good ideas of apps would be in Social Networking, reference, weather or music field, since the four of them have more than 40 thousand ratings(indicating a lot of downloads) and they are not saturated: Music apps are 1.65% of our dataset, weather 0.76%, Social Networking 3.53% and reference 0.49% ##"
   ]
  },
  {
   "cell_type": "markdown",
   "id": "ea589920",
   "metadata": {},
   "source": [
    "Now we need to evaluate the amount of installs of the apps from the Play Store. They do not have an exact number for each apps, so we are goin to work with have. Once we take this values, we will treat them and print so we can analyze it."
   ]
  },
  {
   "cell_type": "code",
   "execution_count": 52,
   "id": "834c6fa7",
   "metadata": {},
   "outputs": [
    {
     "name": "stdout",
     "output_type": "stream",
     "text": [
      "ART_AND_DESIGN 2021626.7857\n",
      "AUTO_AND_VEHICLES 647317.8171\n",
      "BEAUTY 513151.8868\n",
      "BOOKS_AND_REFERENCE 8814199.7884\n",
      "BUSINESS 1712290.1474\n",
      "COMICS 832613.8889\n",
      "COMMUNICATION 38590581.0874\n",
      "DATING 854028.8303\n",
      "EDUCATION 1833495.1456\n",
      "ENTERTAINMENT 11640705.8824\n",
      "EVENTS 253542.2222\n",
      "FINANCE 1387692.4756\n",
      "FOOD_AND_DRINK 1924897.7364\n",
      "HEALTH_AND_FITNESS 4188821.9853\n",
      "HOUSE_AND_HOME 1360598.0423\n",
      "LIBRARIES_AND_DEMO 638503.7349\n",
      "LIFESTYLE 1446158.2238\n",
      "GAME 15544014.5105\n",
      "FAMILY 3695641.8198\n",
      "MEDICAL 120550.6198\n",
      "SOCIAL 23253652.1271\n",
      "SHOPPING 7036877.3116\n",
      "PHOTOGRAPHY 17840110.4023\n",
      "SPORTS 3650602.2767\n",
      "TRAVEL_AND_LOCAL 13984077.7101\n",
      "TOOLS 10830251.9706\n",
      "PERSONALIZATION 5201482.6122\n",
      "PRODUCTIVITY 16787331.3449\n",
      "PARENTING 542603.6207\n",
      "WEATHER 5145550.2857\n",
      "VIDEO_PLAYERS 24727872.4528\n",
      "NEWS_AND_MAGAZINES 9549178.4677\n",
      "MAPS_AND_NAVIGATION 4049274.6341\n"
     ]
    }
   ],
   "source": [
    "# making a frequency table for category (playstore)\n",
    "category_freq = freq_table(free_android_apps, 1)\n",
    "\n",
    "for category in category_freq:\n",
    "    total = 0\n",
    "    len_category = 0\n",
    "    for app in free_android_apps:\n",
    "        category_app = app[1]\n",
    "        if category_app == category:\n",
    "            n_ratings = float((app[5].replace('+', '')).replace(',',''))\n",
    "            total += n_ratings\n",
    "            len_category += 1\n",
    "    avg_ratings = round(total/len_category, 4)\n",
    "    category_ratings = [category, avg_ratings]\n",
    "    print(category, avg_ratings)"
   ]
  },
  {
   "cell_type": "code",
   "execution_count": 53,
   "id": "62f7038b",
   "metadata": {},
   "outputs": [
    {
     "name": "stdout",
     "output_type": "stream",
     "text": [
      "Art & Design 2163482.6923\n",
      "Art & Design;Creativity 285000.0\n",
      "Auto & Vehicles 647317.8171\n",
      "Beauty 513151.8868\n",
      "Books & Reference 8814199.7884\n",
      "Business 1712290.1474\n",
      "Comics 847380.1887\n",
      "Comics;Creativity 50000.0\n",
      "Communication 38590581.0874\n",
      "Dating 854028.8303\n",
      "Education 550185.443\n",
      "Education;Creativity 2875000.0\n",
      "Education;Education 4759517.0\n",
      "Education;Pretend Play 1800000.0\n",
      "Education;Brain Games 5333333.3333\n",
      "Entertainment 5602792.7751\n",
      "Entertainment;Brain Games 3314285.7143\n",
      "Entertainment;Creativity 4000000.0\n",
      "Entertainment;Music & Video 6413333.3333\n",
      "Events 253542.2222\n",
      "Finance 1387692.4756\n",
      "Food & Drink 1924897.7364\n",
      "Health & Fitness 4188821.9853\n",
      "House & Home 1360598.0423\n",
      "Libraries & Demo 638503.7349\n",
      "Lifestyle 1421219.9096\n",
      "Lifestyle;Pretend Play 10000000.0\n",
      "Card 3815462.5\n",
      "Arcade 23028171.411\n",
      "Puzzle 8302861.91\n",
      "Racing 15910645.6818\n",
      "Sports 4611701.5784\n",
      "Casual 19569221.6026\n",
      "Simulation 3475484.0884\n",
      "Adventure 4158764.7458\n",
      "Trivia 3475712.7027\n",
      "Action 12467105.6204\n",
      "Word 9094458.6957\n",
      "Role Playing 3965645.4217\n",
      "Strategy 11199902.5309\n",
      "Board 4759209.1176\n",
      "Music 9445583.3333\n",
      "Action;Action & Adventure 5888888.8889\n",
      "Casual;Brain Games 1425916.6667\n",
      "Educational;Creativity 2333333.3333\n",
      "Puzzle;Brain Games 9280666.6667\n",
      "Educational;Education 1737143.1429\n",
      "Casual;Pretend Play 6957142.8571\n",
      "Educational;Brain Games 4433333.3333\n",
      "Art & Design;Pretend Play 500000.0\n",
      "Educational;Pretend Play 9375000.0\n",
      "Entertainment;Education 1000000.0\n",
      "Casual;Education 1000000.0\n",
      "Casual;Creativity 5333333.3333\n",
      "Casual;Action & Adventure 12916666.6667\n",
      "Music;Music & Video 5050000.0\n",
      "Arcade;Pretend Play 1000000.0\n",
      "Adventure;Action & Adventure 35333333.3333\n",
      "Role Playing;Action & Adventure 7000000.0\n",
      "Simulation;Pretend Play 550000.0\n",
      "Puzzle;Creativity 750000.0\n",
      "Simulation;Action & Adventure 4857142.8571\n",
      "Racing;Action & Adventure 8816666.6667\n",
      "Sports;Action & Adventure 5050000.0\n",
      "Educational;Action & Adventure 17016666.6667\n",
      "Arcade;Action & Adventure 3190909.1818\n",
      "Entertainment;Action & Adventure 2333333.3333\n",
      "Art & Design;Action & Adventure 100000.0\n",
      "Puzzle;Action & Adventure 18366666.6667\n",
      "Education;Action & Adventure 1000000.0\n",
      "Strategy;Action & Adventure 1000000.0\n",
      "Music & Audio;Music & Video 500000.0\n",
      "Health & Fitness;Education 100000.0\n",
      "Board;Action & Adventure 3000000.0\n",
      "Board;Brain Games 407142.8571\n",
      "Casual;Music & Video 10000000.0\n",
      "Education;Music & Video 2033333.3333\n",
      "Role Playing;Pretend Play 5275000.0\n",
      "Entertainment;Pretend Play 3000000.0\n",
      "Medical 120550.6198\n",
      "Social 23253652.1271\n",
      "Shopping 7036877.3116\n",
      "Photography 17840110.4023\n",
      "Travel & Local 14051476.1456\n",
      "Travel & Local;Action & Adventure 100000.0\n",
      "Tools 10831363.419\n",
      "Tools;Education 10000000.0\n",
      "Personalization 5201482.6122\n",
      "Productivity 16787331.3449\n",
      "Parenting 467977.5\n",
      "Parenting;Music & Video 1118333.3333\n",
      "Parenting;Education 452857.1429\n",
      "Parenting;Brain Games 1000000.0\n",
      "Weather 5145550.2857\n",
      "Video Players & Editors 24947335.7962\n",
      "Video Players & Editors;Music & Video 7500000.0\n",
      "Video Players & Editors;Creativity 5000000.0\n",
      "News & Magazines 9549178.4677\n",
      "Maps & Navigation 4049274.6341\n",
      "Health & Fitness;Action & Adventure 1000000.0\n",
      "Educational 411184.8485\n",
      "Casino 3520421.6216\n",
      "Trivia;Education 100.0\n",
      "Lifestyle;Education 100000.0\n",
      "Card;Action & Adventure 10000000.0\n",
      "Books & Reference;Education 1000.0\n",
      "Simulation;Education 500.0\n",
      "Puzzle;Education 100000.0\n",
      "Adventure;Education 10000000.0\n",
      "Role Playing;Brain Games 10000000.0\n",
      "Strategy;Education 500000.0\n",
      "Racing;Pretend Play 1000000.0\n",
      "Communication;Creativity 500000.0\n",
      "Strategy;Creativity 1000000.0\n"
     ]
    }
   ],
   "source": [
    "# making a frequency table for category/genre column(Play Store)\n",
    "genre_freq = freq_table(free_android_apps, 9)\n",
    "\n",
    "for genre in genre_freq:\n",
    "    total = 0\n",
    "    len_genre = 0\n",
    "    for app in free_android_apps:\n",
    "        genre_app = app[9]\n",
    "        if genre_app == genre:\n",
    "            n_ratings = float((app[5].replace('+', '')).replace(',',''))\n",
    "            total += n_ratings\n",
    "            len_genre += 1\n",
    "    avg_ratings = round(total/len_genre, 4)\n",
    "    genre_ratings = [genre, avg_ratings]\n",
    "    print(genre, avg_ratings)\n"
   ]
  },
  {
   "cell_type": "markdown",
   "id": "b096eded",
   "metadata": {},
   "source": [
    "## looking at the data we have printed, we can see that the most installed apps that are not a big part of the total apps are:\n",
    "\n",
    "1)Video players more than 24million downloads and 1.79%\n",
    "2) Entertainment with more than 11million downloads and 0.96% of total apps\n",
    "3) Books and references with more than 8million downloads and 2.13% of total apps\n",
    "4) Weather with more than 5million downloads and 0.79% of total apps\n",
    "5) Music with more than 9million downloads and 0.30%(approximately) of total apps"
   ]
  },
  {
   "cell_type": "markdown",
   "id": "9b9e7f6a",
   "metadata": {},
   "source": [
    "## keeping in mind that we want an app for both platforms(play store and app store), books, references, music app are good choices, since they are downloaded alot and have a small share in the total number of apps in both markets. To refine our decision, we are going to take a look in these specific genres to see if there's something interesting there"
   ]
  },
  {
   "cell_type": "markdown",
   "id": "f8439042",
   "metadata": {},
   "source": [
    "# Books, references and Music apps analysis"
   ]
  },
  {
   "cell_type": "code",
   "execution_count": 54,
   "id": "cfd94d01",
   "metadata": {},
   "outputs": [
    {
     "name": "stdout",
     "output_type": "stream",
     "text": [
      "lenth of books_android (and references) 189\n",
      "length of music_android: 48\n",
      "\n",
      "\n",
      "length of books_ios (and references): 86\n",
      "length of music_ios 67\n"
     ]
    }
   ],
   "source": [
    "# making a list with all book and reference android apps\n",
    "books_android = []\n",
    "for app in free_android_apps:\n",
    "    category = app[1]\n",
    "    if category == 'BOOKS_AND_REFERENCE':\n",
    "        books_android.append(app)\n",
    "        \n",
    "#making a list with all music android apps\n",
    "music_android = []\n",
    "for app in free_android_apps:\n",
    "    genre = app[9]\n",
    "    if 'Music' in genre:\n",
    "        music_android.append(app)\n",
    "        \n",
    "#making list with all book and reference ios apps\n",
    "\n",
    "books_ios =[]\n",
    "for app in free_ios_apps:\n",
    "    category = app[11]\n",
    "    if category == 'Reference':\n",
    "        books_ios.append(app)\n",
    "    elif category == 'Book':\n",
    "        books_ios.append(app)\n",
    "        \n",
    "#making a list with all music ios apps\n",
    "music_ios = []\n",
    "for app in free_ios_apps:\n",
    "    category = app[11]\n",
    "    if category == 'Music':\n",
    "        music_ios.append(app)\n",
    "\n",
    "print('lenth of books_android (and references)', len(books_android))\n",
    "print('length of music_android:', len(music_android))\n",
    "print('\\n')\n",
    "print('length of books_ios (and references):', len(books_ios))\n",
    "print('length of music_ios', len(music_ios))"
   ]
  },
  {
   "cell_type": "code",
   "execution_count": null,
   "id": "a66aec73",
   "metadata": {},
   "outputs": [],
   "source": []
  }
 ],
 "metadata": {
  "kernelspec": {
   "display_name": "Python 3 (ipykernel)",
   "language": "python",
   "name": "python3"
  },
  "language_info": {
   "codemirror_mode": {
    "name": "ipython",
    "version": 3
   },
   "file_extension": ".py",
   "mimetype": "text/x-python",
   "name": "python",
   "nbconvert_exporter": "python",
   "pygments_lexer": "ipython3",
   "version": "3.9.13"
  }
 },
 "nbformat": 4,
 "nbformat_minor": 5
}
